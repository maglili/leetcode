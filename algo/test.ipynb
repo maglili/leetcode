{
 "cells": [
  {
   "cell_type": "code",
   "execution_count": 1,
   "source": [
    "def match(text, pattern):\r\n",
    "    if not pattern:\r\n",
    "        return not text\r\n",
    "    first_match = bool(text) and pattern[0] in {text[0], \".\"}\r\n",
    "    return first_match and match(text[1:], pattern[1:])"
   ],
   "outputs": [],
   "metadata": {}
  },
  {
   "cell_type": "code",
   "execution_count": 12,
   "source": [
    "    s = \"\"\r\n",
    "    p = \"\"\r\n",
    "    print(match(s, p))"
   ],
   "outputs": [
    {
     "output_type": "stream",
     "name": "stdout",
     "text": [
      "True\n"
     ]
    }
   ],
   "metadata": {}
  },
  {
   "cell_type": "code",
   "execution_count": null,
   "source": [],
   "outputs": [],
   "metadata": {}
  }
 ],
 "metadata": {
  "orig_nbformat": 4,
  "language_info": {
   "name": "python",
   "version": "3.8.6",
   "mimetype": "text/x-python",
   "codemirror_mode": {
    "name": "ipython",
    "version": 3
   },
   "pygments_lexer": "ipython3",
   "nbconvert_exporter": "python",
   "file_extension": ".py"
  },
  "kernelspec": {
   "name": "python3",
   "display_name": "Python 3.8.6 64-bit ('py38': virtualenv)"
  },
  "interpreter": {
   "hash": "52d198114c380b4df16f6540bc5eff20bdfe776264fb1d55fcdd0b39c91c0dc9"
  }
 },
 "nbformat": 4,
 "nbformat_minor": 2
}